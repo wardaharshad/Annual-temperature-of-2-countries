{
 "cells": [
  {
   "cell_type": "code",
   "execution_count": 1,
   "metadata": {},
   "outputs": [],
   "source": [
    "import numpy as np\n",
    "import pandas as pd\n",
    "import matplotlib.pyplot as plt"
   ]
  },
  {
   "cell_type": "markdown",
   "metadata": {},
   "source": [
    "# Data set"
   ]
  },
  {
   "cell_type": "code",
   "execution_count": 2,
   "metadata": {
    "scrolled": true
   },
   "outputs": [
    {
     "data": {
      "text/html": [
       "<div>\n",
       "<style scoped>\n",
       "    .dataframe tbody tr th:only-of-type {\n",
       "        vertical-align: middle;\n",
       "    }\n",
       "\n",
       "    .dataframe tbody tr th {\n",
       "        vertical-align: top;\n",
       "    }\n",
       "\n",
       "    .dataframe thead th {\n",
       "        text-align: right;\n",
       "    }\n",
       "</style>\n",
       "<table border=\"1\" class=\"dataframe\">\n",
       "  <thead>\n",
       "    <tr style=\"text-align: right;\">\n",
       "      <th></th>\n",
       "      <th>Source</th>\n",
       "      <th>Year</th>\n",
       "      <th>Mean</th>\n",
       "    </tr>\n",
       "  </thead>\n",
       "  <tbody>\n",
       "    <tr>\n",
       "      <td>0</td>\n",
       "      <td>GCAG</td>\n",
       "      <td>2015</td>\n",
       "      <td>0.8990</td>\n",
       "    </tr>\n",
       "    <tr>\n",
       "      <td>1</td>\n",
       "      <td>GISTEMP</td>\n",
       "      <td>2015</td>\n",
       "      <td>0.8700</td>\n",
       "    </tr>\n",
       "    <tr>\n",
       "      <td>2</td>\n",
       "      <td>GCAG</td>\n",
       "      <td>2014</td>\n",
       "      <td>0.7402</td>\n",
       "    </tr>\n",
       "    <tr>\n",
       "      <td>3</td>\n",
       "      <td>GISTEMP</td>\n",
       "      <td>2014</td>\n",
       "      <td>0.7500</td>\n",
       "    </tr>\n",
       "    <tr>\n",
       "      <td>4</td>\n",
       "      <td>GCAG</td>\n",
       "      <td>2013</td>\n",
       "      <td>0.6687</td>\n",
       "    </tr>\n",
       "    <tr>\n",
       "      <td>...</td>\n",
       "      <td>...</td>\n",
       "      <td>...</td>\n",
       "      <td>...</td>\n",
       "    </tr>\n",
       "    <tr>\n",
       "      <td>267</td>\n",
       "      <td>GISTEMP</td>\n",
       "      <td>1882</td>\n",
       "      <td>-0.1000</td>\n",
       "    </tr>\n",
       "    <tr>\n",
       "      <td>268</td>\n",
       "      <td>GCAG</td>\n",
       "      <td>1881</td>\n",
       "      <td>-0.0707</td>\n",
       "    </tr>\n",
       "    <tr>\n",
       "      <td>269</td>\n",
       "      <td>GISTEMP</td>\n",
       "      <td>1881</td>\n",
       "      <td>-0.1200</td>\n",
       "    </tr>\n",
       "    <tr>\n",
       "      <td>270</td>\n",
       "      <td>GCAG</td>\n",
       "      <td>1880</td>\n",
       "      <td>-0.1247</td>\n",
       "    </tr>\n",
       "    <tr>\n",
       "      <td>271</td>\n",
       "      <td>GISTEMP</td>\n",
       "      <td>1880</td>\n",
       "      <td>-0.2000</td>\n",
       "    </tr>\n",
       "  </tbody>\n",
       "</table>\n",
       "<p>272 rows × 3 columns</p>\n",
       "</div>"
      ],
      "text/plain": [
       "      Source  Year    Mean\n",
       "0       GCAG  2015  0.8990\n",
       "1    GISTEMP  2015  0.8700\n",
       "2       GCAG  2014  0.7402\n",
       "3    GISTEMP  2014  0.7500\n",
       "4       GCAG  2013  0.6687\n",
       "..       ...   ...     ...\n",
       "267  GISTEMP  1882 -0.1000\n",
       "268     GCAG  1881 -0.0707\n",
       "269  GISTEMP  1881 -0.1200\n",
       "270     GCAG  1880 -0.1247\n",
       "271  GISTEMP  1880 -0.2000\n",
       "\n",
       "[272 rows x 3 columns]"
      ]
     },
     "execution_count": 2,
     "metadata": {},
     "output_type": "execute_result"
    }
   ],
   "source": [
    "dataset = pd.read_csv('annual_temp.csv')\n",
    "dataset"
   ]
  },
  {
   "cell_type": "code",
   "execution_count": 6,
   "metadata": {},
   "outputs": [
    {
     "data": {
      "text/html": [
       "<div>\n",
       "<style scoped>\n",
       "    .dataframe tbody tr th:only-of-type {\n",
       "        vertical-align: middle;\n",
       "    }\n",
       "\n",
       "    .dataframe tbody tr th {\n",
       "        vertical-align: top;\n",
       "    }\n",
       "\n",
       "    .dataframe thead th {\n",
       "        text-align: right;\n",
       "    }\n",
       "</style>\n",
       "<table border=\"1\" class=\"dataframe\">\n",
       "  <thead>\n",
       "    <tr style=\"text-align: right;\">\n",
       "      <th></th>\n",
       "      <th>Year</th>\n",
       "      <th>Mean</th>\n",
       "    </tr>\n",
       "  </thead>\n",
       "  <tbody>\n",
       "    <tr>\n",
       "      <td>0</td>\n",
       "      <td>2015</td>\n",
       "      <td>0.8990</td>\n",
       "    </tr>\n",
       "    <tr>\n",
       "      <td>2</td>\n",
       "      <td>2014</td>\n",
       "      <td>0.7402</td>\n",
       "    </tr>\n",
       "    <tr>\n",
       "      <td>4</td>\n",
       "      <td>2013</td>\n",
       "      <td>0.6687</td>\n",
       "    </tr>\n",
       "    <tr>\n",
       "      <td>6</td>\n",
       "      <td>2012</td>\n",
       "      <td>0.6219</td>\n",
       "    </tr>\n",
       "    <tr>\n",
       "      <td>8</td>\n",
       "      <td>2011</td>\n",
       "      <td>0.5759</td>\n",
       "    </tr>\n",
       "    <tr>\n",
       "      <td>...</td>\n",
       "      <td>...</td>\n",
       "      <td>...</td>\n",
       "    </tr>\n",
       "    <tr>\n",
       "      <td>262</td>\n",
       "      <td>1884</td>\n",
       "      <td>-0.2099</td>\n",
       "    </tr>\n",
       "    <tr>\n",
       "      <td>264</td>\n",
       "      <td>1883</td>\n",
       "      <td>-0.1481</td>\n",
       "    </tr>\n",
       "    <tr>\n",
       "      <td>266</td>\n",
       "      <td>1882</td>\n",
       "      <td>-0.0710</td>\n",
       "    </tr>\n",
       "    <tr>\n",
       "      <td>268</td>\n",
       "      <td>1881</td>\n",
       "      <td>-0.0707</td>\n",
       "    </tr>\n",
       "    <tr>\n",
       "      <td>270</td>\n",
       "      <td>1880</td>\n",
       "      <td>-0.1247</td>\n",
       "    </tr>\n",
       "  </tbody>\n",
       "</table>\n",
       "<p>136 rows × 2 columns</p>\n",
       "</div>"
      ],
      "text/plain": [
       "     Year    Mean\n",
       "0    2015  0.8990\n",
       "2    2014  0.7402\n",
       "4    2013  0.6687\n",
       "6    2012  0.6219\n",
       "8    2011  0.5759\n",
       "..    ...     ...\n",
       "262  1884 -0.2099\n",
       "264  1883 -0.1481\n",
       "266  1882 -0.0710\n",
       "268  1881 -0.0707\n",
       "270  1880 -0.1247\n",
       "\n",
       "[136 rows x 2 columns]"
      ]
     },
     "execution_count": 6,
     "metadata": {},
     "output_type": "execute_result"
    }
   ],
   "source": [
    "X1 = dataset.loc[dataset.Source==\"GCAG\" , \"Year\":\"Mean\"]\n",
    "X1"
   ]
  },
  {
   "cell_type": "code",
   "execution_count": 7,
   "metadata": {
    "scrolled": true
   },
   "outputs": [
    {
     "data": {
      "text/html": [
       "<div>\n",
       "<style scoped>\n",
       "    .dataframe tbody tr th:only-of-type {\n",
       "        vertical-align: middle;\n",
       "    }\n",
       "\n",
       "    .dataframe tbody tr th {\n",
       "        vertical-align: top;\n",
       "    }\n",
       "\n",
       "    .dataframe thead th {\n",
       "        text-align: right;\n",
       "    }\n",
       "</style>\n",
       "<table border=\"1\" class=\"dataframe\">\n",
       "  <thead>\n",
       "    <tr style=\"text-align: right;\">\n",
       "      <th></th>\n",
       "      <th>Year</th>\n",
       "      <th>Mean</th>\n",
       "    </tr>\n",
       "  </thead>\n",
       "  <tbody>\n",
       "    <tr>\n",
       "      <td>1</td>\n",
       "      <td>2015</td>\n",
       "      <td>0.87</td>\n",
       "    </tr>\n",
       "    <tr>\n",
       "      <td>3</td>\n",
       "      <td>2014</td>\n",
       "      <td>0.75</td>\n",
       "    </tr>\n",
       "    <tr>\n",
       "      <td>5</td>\n",
       "      <td>2013</td>\n",
       "      <td>0.66</td>\n",
       "    </tr>\n",
       "    <tr>\n",
       "      <td>7</td>\n",
       "      <td>2012</td>\n",
       "      <td>0.64</td>\n",
       "    </tr>\n",
       "    <tr>\n",
       "      <td>9</td>\n",
       "      <td>2011</td>\n",
       "      <td>0.61</td>\n",
       "    </tr>\n",
       "    <tr>\n",
       "      <td>...</td>\n",
       "      <td>...</td>\n",
       "      <td>...</td>\n",
       "    </tr>\n",
       "    <tr>\n",
       "      <td>263</td>\n",
       "      <td>1884</td>\n",
       "      <td>-0.28</td>\n",
       "    </tr>\n",
       "    <tr>\n",
       "      <td>265</td>\n",
       "      <td>1883</td>\n",
       "      <td>-0.20</td>\n",
       "    </tr>\n",
       "    <tr>\n",
       "      <td>267</td>\n",
       "      <td>1882</td>\n",
       "      <td>-0.10</td>\n",
       "    </tr>\n",
       "    <tr>\n",
       "      <td>269</td>\n",
       "      <td>1881</td>\n",
       "      <td>-0.12</td>\n",
       "    </tr>\n",
       "    <tr>\n",
       "      <td>271</td>\n",
       "      <td>1880</td>\n",
       "      <td>-0.20</td>\n",
       "    </tr>\n",
       "  </tbody>\n",
       "</table>\n",
       "<p>136 rows × 2 columns</p>\n",
       "</div>"
      ],
      "text/plain": [
       "     Year  Mean\n",
       "1    2015  0.87\n",
       "3    2014  0.75\n",
       "5    2013  0.66\n",
       "7    2012  0.64\n",
       "9    2011  0.61\n",
       "..    ...   ...\n",
       "263  1884 -0.28\n",
       "265  1883 -0.20\n",
       "267  1882 -0.10\n",
       "269  1881 -0.12\n",
       "271  1880 -0.20\n",
       "\n",
       "[136 rows x 2 columns]"
      ]
     },
     "execution_count": 7,
     "metadata": {},
     "output_type": "execute_result"
    }
   ],
   "source": [
    "X2 = dataset.loc[dataset.Source==\"GISTEMP\" , \"Year\":\"Mean\"]\n",
    "X2"
   ]
  },
  {
   "cell_type": "markdown",
   "metadata": {},
   "source": [
    "# Data pre- processing"
   ]
  },
  {
   "cell_type": "code",
   "execution_count": 20,
   "metadata": {},
   "outputs": [],
   "source": [
    "XGc = X1.iloc[:,:-1].values\n",
    "yGc = X1.iloc[:, 1:2].values"
   ]
  },
  {
   "cell_type": "code",
   "execution_count": 21,
   "metadata": {},
   "outputs": [
    {
     "data": {
      "text/plain": [
       "array([[2015],\n",
       "       [2014],\n",
       "       [2013],\n",
       "       [2012],\n",
       "       [2011],\n",
       "       [2010],\n",
       "       [2009],\n",
       "       [2008],\n",
       "       [2007],\n",
       "       [2006],\n",
       "       [2005],\n",
       "       [2004],\n",
       "       [2003],\n",
       "       [2002],\n",
       "       [2001],\n",
       "       [2000],\n",
       "       [1999],\n",
       "       [1998],\n",
       "       [1997],\n",
       "       [1996],\n",
       "       [1995],\n",
       "       [1994],\n",
       "       [1993],\n",
       "       [1992],\n",
       "       [1991],\n",
       "       [1990],\n",
       "       [1989],\n",
       "       [1988],\n",
       "       [1987],\n",
       "       [1986],\n",
       "       [1985],\n",
       "       [1984],\n",
       "       [1983],\n",
       "       [1982],\n",
       "       [1981],\n",
       "       [1980],\n",
       "       [1979],\n",
       "       [1978],\n",
       "       [1977],\n",
       "       [1976],\n",
       "       [1975],\n",
       "       [1974],\n",
       "       [1973],\n",
       "       [1972],\n",
       "       [1971],\n",
       "       [1970],\n",
       "       [1969],\n",
       "       [1968],\n",
       "       [1967],\n",
       "       [1966],\n",
       "       [1965],\n",
       "       [1964],\n",
       "       [1963],\n",
       "       [1962],\n",
       "       [1961],\n",
       "       [1960],\n",
       "       [1959],\n",
       "       [1958],\n",
       "       [1957],\n",
       "       [1956],\n",
       "       [1955],\n",
       "       [1954],\n",
       "       [1953],\n",
       "       [1952],\n",
       "       [1951],\n",
       "       [1950],\n",
       "       [1949],\n",
       "       [1948],\n",
       "       [1947],\n",
       "       [1946],\n",
       "       [1945],\n",
       "       [1944],\n",
       "       [1943],\n",
       "       [1942],\n",
       "       [1941],\n",
       "       [1940],\n",
       "       [1939],\n",
       "       [1938],\n",
       "       [1937],\n",
       "       [1936],\n",
       "       [1935],\n",
       "       [1934],\n",
       "       [1933],\n",
       "       [1932],\n",
       "       [1931],\n",
       "       [1930],\n",
       "       [1929],\n",
       "       [1928],\n",
       "       [1927],\n",
       "       [1926],\n",
       "       [1925],\n",
       "       [1924],\n",
       "       [1923],\n",
       "       [1922],\n",
       "       [1921],\n",
       "       [1920],\n",
       "       [1919],\n",
       "       [1918],\n",
       "       [1917],\n",
       "       [1916],\n",
       "       [1915],\n",
       "       [1914],\n",
       "       [1913],\n",
       "       [1912],\n",
       "       [1911],\n",
       "       [1910],\n",
       "       [1909],\n",
       "       [1908],\n",
       "       [1907],\n",
       "       [1906],\n",
       "       [1905],\n",
       "       [1904],\n",
       "       [1903],\n",
       "       [1902],\n",
       "       [1901],\n",
       "       [1900],\n",
       "       [1899],\n",
       "       [1898],\n",
       "       [1897],\n",
       "       [1896],\n",
       "       [1895],\n",
       "       [1894],\n",
       "       [1893],\n",
       "       [1892],\n",
       "       [1891],\n",
       "       [1890],\n",
       "       [1889],\n",
       "       [1888],\n",
       "       [1887],\n",
       "       [1886],\n",
       "       [1885],\n",
       "       [1884],\n",
       "       [1883],\n",
       "       [1882],\n",
       "       [1881],\n",
       "       [1880]], dtype=int64)"
      ]
     },
     "execution_count": 21,
     "metadata": {},
     "output_type": "execute_result"
    }
   ],
   "source": [
    "XGc"
   ]
  },
  {
   "cell_type": "code",
   "execution_count": 22,
   "metadata": {},
   "outputs": [
    {
     "data": {
      "text/plain": [
       "array([[ 0.899 ],\n",
       "       [ 0.7402],\n",
       "       [ 0.6687],\n",
       "       [ 0.6219],\n",
       "       [ 0.5759],\n",
       "       [ 0.7008],\n",
       "       [ 0.6354],\n",
       "       [ 0.5415],\n",
       "       [ 0.6113],\n",
       "       [ 0.6139],\n",
       "       [ 0.6583],\n",
       "       [ 0.5806],\n",
       "       [ 0.6145],\n",
       "       [ 0.6018],\n",
       "       [ 0.5455],\n",
       "       [ 0.4255],\n",
       "       [ 0.4427],\n",
       "       [ 0.6335],\n",
       "       [ 0.5185],\n",
       "       [ 0.3225],\n",
       "       [ 0.4593],\n",
       "       [ 0.342 ],\n",
       "       [ 0.2857],\n",
       "       [ 0.2583],\n",
       "       [ 0.4079],\n",
       "       [ 0.435 ],\n",
       "       [ 0.2982],\n",
       "       [ 0.377 ],\n",
       "       [ 0.371 ],\n",
       "       [ 0.2308],\n",
       "       [ 0.1357],\n",
       "       [ 0.151 ],\n",
       "       [ 0.3429],\n",
       "       [ 0.1836],\n",
       "       [ 0.3024],\n",
       "       [ 0.2651],\n",
       "       [ 0.2288],\n",
       "       [ 0.1139],\n",
       "       [ 0.1996],\n",
       "       [-0.0769],\n",
       "       [ 0.006 ],\n",
       "       [-0.0698],\n",
       "       [ 0.1654],\n",
       "       [ 0.028 ],\n",
       "       [-0.0775],\n",
       "       [ 0.0383],\n",
       "       [ 0.0937],\n",
       "       [-0.0282],\n",
       "       [-0.0112],\n",
       "       [-0.0204],\n",
       "       [-0.0752],\n",
       "       [-0.1461],\n",
       "       [ 0.11  ],\n",
       "       [ 0.0924],\n",
       "       [ 0.0818],\n",
       "       [ 0.0252],\n",
       "       [ 0.064 ],\n",
       "       [ 0.1145],\n",
       "       [ 0.0538],\n",
       "       [-0.1945],\n",
       "       [-0.1305],\n",
       "       [-0.1118],\n",
       "       [ 0.0997],\n",
       "       [ 0.0288],\n",
       "       [-0.0095],\n",
       "       [-0.1579],\n",
       "       [-0.055 ],\n",
       "       [-0.0471],\n",
       "       [-0.0455],\n",
       "       [-0.0013],\n",
       "       [ 0.1754],\n",
       "       [ 0.2948],\n",
       "       [ 0.1598],\n",
       "       [ 0.1549],\n",
       "       [ 0.1974],\n",
       "       [ 0.0927],\n",
       "       [-0.0157],\n",
       "       [-0.0318],\n",
       "       [-0.0204],\n",
       "       [-0.1173],\n",
       "       [-0.1445],\n",
       "       [-0.1075],\n",
       "       [-0.2481],\n",
       "       [-0.1214],\n",
       "       [-0.0714],\n",
       "       [-0.1016],\n",
       "       [-0.2982],\n",
       "       [-0.1749],\n",
       "       [-0.1506],\n",
       "       [-0.0618],\n",
       "       [-0.1464],\n",
       "       [-0.251 ],\n",
       "       [-0.2161],\n",
       "       [-0.2318],\n",
       "       [-0.1517],\n",
       "       [-0.2152],\n",
       "       [-0.2082],\n",
       "       [-0.2118],\n",
       "       [-0.3193],\n",
       "       [-0.2979],\n",
       "       [-0.0747],\n",
       "       [-0.1444],\n",
       "       [-0.3205],\n",
       "       [-0.3318],\n",
       "       [-0.4367],\n",
       "       [-0.3862],\n",
       "       [-0.4332],\n",
       "       [-0.4441],\n",
       "       [-0.3767],\n",
       "       [-0.2208],\n",
       "       [-0.2967],\n",
       "       [-0.424 ],\n",
       "       [-0.3442],\n",
       "       [-0.2535],\n",
       "       [-0.1471],\n",
       "       [-0.0704],\n",
       "       [-0.1172],\n",
       "       [-0.2578],\n",
       "       [-0.1232],\n",
       "       [-0.0971],\n",
       "       [-0.2279],\n",
       "       [-0.2828],\n",
       "       [-0.3221],\n",
       "       [-0.3079],\n",
       "       [-0.2552],\n",
       "       [-0.3233],\n",
       "       [-0.1032],\n",
       "       [-0.1541],\n",
       "       [-0.2559],\n",
       "       [-0.2101],\n",
       "       [-0.222 ],\n",
       "       [-0.2099],\n",
       "       [-0.1481],\n",
       "       [-0.071 ],\n",
       "       [-0.0707],\n",
       "       [-0.1247]])"
      ]
     },
     "execution_count": 22,
     "metadata": {},
     "output_type": "execute_result"
    }
   ],
   "source": [
    "yGc"
   ]
  },
  {
   "cell_type": "code",
   "execution_count": 24,
   "metadata": {},
   "outputs": [],
   "source": [
    "XGi = X2.iloc[:,:-1].values\n",
    "yGi = X2.iloc[:, 1:2].values"
   ]
  },
  {
   "cell_type": "code",
   "execution_count": 25,
   "metadata": {},
   "outputs": [
    {
     "data": {
      "text/plain": [
       "array([[2015],\n",
       "       [2014],\n",
       "       [2013],\n",
       "       [2012],\n",
       "       [2011],\n",
       "       [2010],\n",
       "       [2009],\n",
       "       [2008],\n",
       "       [2007],\n",
       "       [2006],\n",
       "       [2005],\n",
       "       [2004],\n",
       "       [2003],\n",
       "       [2002],\n",
       "       [2001],\n",
       "       [2000],\n",
       "       [1999],\n",
       "       [1998],\n",
       "       [1997],\n",
       "       [1996],\n",
       "       [1995],\n",
       "       [1994],\n",
       "       [1993],\n",
       "       [1992],\n",
       "       [1991],\n",
       "       [1990],\n",
       "       [1989],\n",
       "       [1988],\n",
       "       [1987],\n",
       "       [1986],\n",
       "       [1985],\n",
       "       [1984],\n",
       "       [1983],\n",
       "       [1982],\n",
       "       [1981],\n",
       "       [1980],\n",
       "       [1979],\n",
       "       [1978],\n",
       "       [1977],\n",
       "       [1976],\n",
       "       [1975],\n",
       "       [1974],\n",
       "       [1973],\n",
       "       [1972],\n",
       "       [1971],\n",
       "       [1970],\n",
       "       [1969],\n",
       "       [1968],\n",
       "       [1967],\n",
       "       [1966],\n",
       "       [1965],\n",
       "       [1964],\n",
       "       [1963],\n",
       "       [1962],\n",
       "       [1961],\n",
       "       [1960],\n",
       "       [1959],\n",
       "       [1958],\n",
       "       [1957],\n",
       "       [1956],\n",
       "       [1955],\n",
       "       [1954],\n",
       "       [1953],\n",
       "       [1952],\n",
       "       [1951],\n",
       "       [1950],\n",
       "       [1949],\n",
       "       [1948],\n",
       "       [1947],\n",
       "       [1946],\n",
       "       [1945],\n",
       "       [1944],\n",
       "       [1943],\n",
       "       [1942],\n",
       "       [1941],\n",
       "       [1940],\n",
       "       [1939],\n",
       "       [1938],\n",
       "       [1937],\n",
       "       [1936],\n",
       "       [1935],\n",
       "       [1934],\n",
       "       [1933],\n",
       "       [1932],\n",
       "       [1931],\n",
       "       [1930],\n",
       "       [1929],\n",
       "       [1928],\n",
       "       [1927],\n",
       "       [1926],\n",
       "       [1925],\n",
       "       [1924],\n",
       "       [1923],\n",
       "       [1922],\n",
       "       [1921],\n",
       "       [1920],\n",
       "       [1919],\n",
       "       [1918],\n",
       "       [1917],\n",
       "       [1916],\n",
       "       [1915],\n",
       "       [1914],\n",
       "       [1913],\n",
       "       [1912],\n",
       "       [1911],\n",
       "       [1910],\n",
       "       [1909],\n",
       "       [1908],\n",
       "       [1907],\n",
       "       [1906],\n",
       "       [1905],\n",
       "       [1904],\n",
       "       [1903],\n",
       "       [1902],\n",
       "       [1901],\n",
       "       [1900],\n",
       "       [1899],\n",
       "       [1898],\n",
       "       [1897],\n",
       "       [1896],\n",
       "       [1895],\n",
       "       [1894],\n",
       "       [1893],\n",
       "       [1892],\n",
       "       [1891],\n",
       "       [1890],\n",
       "       [1889],\n",
       "       [1888],\n",
       "       [1887],\n",
       "       [1886],\n",
       "       [1885],\n",
       "       [1884],\n",
       "       [1883],\n",
       "       [1882],\n",
       "       [1881],\n",
       "       [1880]], dtype=int64)"
      ]
     },
     "execution_count": 25,
     "metadata": {},
     "output_type": "execute_result"
    }
   ],
   "source": [
    "XGi"
   ]
  },
  {
   "cell_type": "code",
   "execution_count": 26,
   "metadata": {},
   "outputs": [
    {
     "data": {
      "text/plain": [
       "array([[ 0.87],\n",
       "       [ 0.75],\n",
       "       [ 0.66],\n",
       "       [ 0.64],\n",
       "       [ 0.61],\n",
       "       [ 0.72],\n",
       "       [ 0.65],\n",
       "       [ 0.54],\n",
       "       [ 0.66],\n",
       "       [ 0.63],\n",
       "       [ 0.69],\n",
       "       [ 0.55],\n",
       "       [ 0.62],\n",
       "       [ 0.63],\n",
       "       [ 0.55],\n",
       "       [ 0.42],\n",
       "       [ 0.42],\n",
       "       [ 0.64],\n",
       "       [ 0.48],\n",
       "       [ 0.35],\n",
       "       [ 0.46],\n",
       "       [ 0.32],\n",
       "       [ 0.24],\n",
       "       [ 0.23],\n",
       "       [ 0.43],\n",
       "       [ 0.44],\n",
       "       [ 0.29],\n",
       "       [ 0.41],\n",
       "       [ 0.33],\n",
       "       [ 0.19],\n",
       "       [ 0.12],\n",
       "       [ 0.16],\n",
       "       [ 0.3 ],\n",
       "       [ 0.13],\n",
       "       [ 0.33],\n",
       "       [ 0.27],\n",
       "       [ 0.17],\n",
       "       [ 0.07],\n",
       "       [ 0.18],\n",
       "       [-0.12],\n",
       "       [-0.02],\n",
       "       [-0.08],\n",
       "       [ 0.15],\n",
       "       [ 0.01],\n",
       "       [-0.09],\n",
       "       [ 0.02],\n",
       "       [ 0.06],\n",
       "       [-0.07],\n",
       "       [-0.02],\n",
       "       [-0.05],\n",
       "       [-0.1 ],\n",
       "       [-0.2 ],\n",
       "       [ 0.06],\n",
       "       [ 0.03],\n",
       "       [ 0.05],\n",
       "       [-0.03],\n",
       "       [ 0.03],\n",
       "       [ 0.07],\n",
       "       [ 0.04],\n",
       "       [-0.2 ],\n",
       "       [-0.15],\n",
       "       [-0.12],\n",
       "       [ 0.08],\n",
       "       [ 0.01],\n",
       "       [-0.06],\n",
       "       [-0.18],\n",
       "       [-0.09],\n",
       "       [-0.09],\n",
       "       [-0.05],\n",
       "       [-0.04],\n",
       "       [ 0.12],\n",
       "       [ 0.25],\n",
       "       [ 0.13],\n",
       "       [ 0.09],\n",
       "       [ 0.13],\n",
       "       [ 0.08],\n",
       "       [-0.03],\n",
       "       [-0.03],\n",
       "       [-0.03],\n",
       "       [-0.15],\n",
       "       [-0.19],\n",
       "       [-0.14],\n",
       "       [-0.29],\n",
       "       [-0.16],\n",
       "       [-0.09],\n",
       "       [-0.14],\n",
       "       [-0.35],\n",
       "       [-0.21],\n",
       "       [-0.2 ],\n",
       "       [-0.09],\n",
       "       [-0.2 ],\n",
       "       [-0.28],\n",
       "       [-0.24],\n",
       "       [-0.27],\n",
       "       [-0.21],\n",
       "       [-0.27],\n",
       "       [-0.22],\n",
       "       [-0.26],\n",
       "       [-0.4 ],\n",
       "       [-0.34],\n",
       "       [-0.11],\n",
       "       [-0.16],\n",
       "       [-0.34],\n",
       "       [-0.35],\n",
       "       [-0.45],\n",
       "       [-0.43],\n",
       "       [-0.48],\n",
       "       [-0.43],\n",
       "       [-0.4 ],\n",
       "       [-0.23],\n",
       "       [-0.28],\n",
       "       [-0.45],\n",
       "       [-0.36],\n",
       "       [-0.28],\n",
       "       [-0.15],\n",
       "       [-0.09],\n",
       "       [-0.16],\n",
       "       [-0.28],\n",
       "       [-0.11],\n",
       "       [-0.15],\n",
       "       [-0.21],\n",
       "       [-0.3 ],\n",
       "       [-0.3 ],\n",
       "       [-0.26],\n",
       "       [-0.24],\n",
       "       [-0.36],\n",
       "       [-0.11],\n",
       "       [-0.2 ],\n",
       "       [-0.33],\n",
       "       [-0.3 ],\n",
       "       [-0.31],\n",
       "       [-0.28],\n",
       "       [-0.2 ],\n",
       "       [-0.1 ],\n",
       "       [-0.12],\n",
       "       [-0.2 ]])"
      ]
     },
     "execution_count": 26,
     "metadata": {},
     "output_type": "execute_result"
    }
   ],
   "source": [
    "yGi"
   ]
  },
  {
   "cell_type": "markdown",
   "metadata": {},
   "source": [
    "# Splitting"
   ]
  },
  {
   "cell_type": "code",
   "execution_count": 27,
   "metadata": {},
   "outputs": [],
   "source": [
    "from sklearn.model_selection import train_test_split\n",
    "XGc_train, XGc_test, yGc_train, yGc_test = train_test_split(XGc, yGc, test_size = 1/3, random_state = 0)"
   ]
  },
  {
   "cell_type": "code",
   "execution_count": 28,
   "metadata": {},
   "outputs": [],
   "source": [
    "from sklearn.model_selection import train_test_split\n",
    "XGi_train, XGi_test, yGi_train, yGi_test = train_test_split(XGi, yGi, test_size = 1/3, random_state = 0)"
   ]
  },
  {
   "cell_type": "markdown",
   "metadata": {},
   "source": [
    "# Fitting"
   ]
  },
  {
   "cell_type": "code",
   "execution_count": 29,
   "metadata": {},
   "outputs": [
    {
     "data": {
      "text/plain": [
       "LinearRegression(copy_X=True, fit_intercept=True, n_jobs=None, normalize=False)"
      ]
     },
     "execution_count": 29,
     "metadata": {},
     "output_type": "execute_result"
    }
   ],
   "source": [
    "from sklearn.linear_model import LinearRegression\n",
    "regressorGc = LinearRegression()\n",
    "regressorGc.fit(XGc_train, yGc_train)"
   ]
  },
  {
   "cell_type": "code",
   "execution_count": 30,
   "metadata": {},
   "outputs": [
    {
     "data": {
      "text/plain": [
       "LinearRegression(copy_X=True, fit_intercept=True, n_jobs=None, normalize=False)"
      ]
     },
     "execution_count": 30,
     "metadata": {},
     "output_type": "execute_result"
    }
   ],
   "source": [
    "from sklearn.linear_model import LinearRegression\n",
    "regressorGi = LinearRegression()\n",
    "regressorGi.fit(XGi_train, yGi_train)"
   ]
  },
  {
   "cell_type": "markdown",
   "metadata": {},
   "source": [
    "# Plotting"
   ]
  },
  {
   "cell_type": "code",
   "execution_count": 33,
   "metadata": {},
   "outputs": [
    {
     "data": {
      "image/png": "[encoded data removed]",
      "text/plain": [
       "<Figure size 432x288 with 1 Axes>"
      ]
     },
     "metadata": {
      "needs_background": "light"
     },
     "output_type": "display_data"
    }
   ],
   "source": [
    "plt.scatter(XGc_train, yGc_train, color = 'red')\n",
    "plt.plot(XGc_train, regressorGc.predict(XGc_train), color = 'blue')\n",
    "plt.title('Annual temperature of GCAG (Training set)')\n",
    "plt.xlabel('Years')\n",
    "plt.ylabel('Mean temp')\n",
    "plt.show()"
   ]
  },
  {
   "cell_type": "code",
   "execution_count": 34,
   "metadata": {},
   "outputs": [
    {
     "data": {
      "image/png": "[encoded data removed]",
      "text/plain": [
       "<Figure size 432x288 with 1 Axes>"
      ]
     },
     "metadata": {
      "needs_background": "light"
     },
     "output_type": "display_data"
    }
   ],
   "source": [
    "plt.scatter(XGi_train, yGi_train, color = 'red')\n",
    "plt.plot(XGi_train, regressorGi.predict(XGi_train), color = 'blue')\n",
    "plt.title('Annual temperature of GISTEMP(Training set)')\n",
    "plt.xlabel('Years')\n",
    "plt.ylabel('Mean temp')\n",
    "plt.show()"
   ]
  },
  {
   "cell_type": "markdown",
   "metadata": {},
   "source": [
    "# apply polynomial regression"
   ]
  },
  {
   "cell_type": "markdown",
   "metadata": {},
   "source": [
    "# Fitting"
   ]
  },
  {
   "cell_type": "code",
   "execution_count": 35,
   "metadata": {},
   "outputs": [
    {
     "data": {
      "text/plain": [
       "LinearRegression(copy_X=True, fit_intercept=True, n_jobs=None, normalize=False)"
      ]
     },
     "execution_count": 35,
     "metadata": {},
     "output_type": "execute_result"
    }
   ],
   "source": [
    "from sklearn.preprocessing import PolynomialFeatures\n",
    "poly_regGc = PolynomialFeatures(degree = 4)\n",
    "XGc_poly = poly_regGc.fit_transform(XGc)\n",
    "poly_regGc.fit(XGc_poly, yGc)\n",
    "lin_reg_2Gc = LinearRegression()\n",
    "lin_reg_2Gc.fit(XGc_poly, yGc)"
   ]
  },
  {
   "cell_type": "code",
   "execution_count": 36,
   "metadata": {},
   "outputs": [
    {
     "data": {
      "text/plain": [
       "LinearRegression(copy_X=True, fit_intercept=True, n_jobs=None, normalize=False)"
      ]
     },
     "execution_count": 36,
     "metadata": {},
     "output_type": "execute_result"
    }
   ],
   "source": [
    "from sklearn.preprocessing import PolynomialFeatures\n",
    "poly_regGi = PolynomialFeatures(degree = 4)\n",
    "XGi_poly = poly_regGi.fit_transform(XGi)\n",
    "poly_regGi.fit(XGi_poly, yGi)\n",
    "lin_reg_2Gi = LinearRegression()\n",
    "lin_reg_2Gi.fit(XGi_poly, yGi)"
   ]
  },
  {
   "cell_type": "markdown",
   "metadata": {},
   "source": [
    "# Again Plotting"
   ]
  },
  {
   "cell_type": "code",
   "execution_count": 37,
   "metadata": {},
   "outputs": [
    {
     "data": {
      "image/png": "[encoded data removed]",
      "text/plain": [
       "<Figure size 432x288 with 1 Axes>"
      ]
     },
     "metadata": {
      "needs_background": "light"
     },
     "output_type": "display_data"
    }
   ],
   "source": [
    "plt.scatter(XGc, yGc, color = 'red')\n",
    "plt.plot(XGc, lin_reg_2Gc.predict(poly_regGc.fit_transform(XGc)), color = 'blue')\n",
    "plt.title('Annual temperature of GCAG (Polynomial Regression)')\n",
    "plt.xlabel('Years')\n",
    "plt.ylabel('Mean temp')\n",
    "plt.show()"
   ]
  },
  {
   "cell_type": "code",
   "execution_count": 38,
   "metadata": {},
   "outputs": [
    {
     "data": {
      "image/png": "[encoded data removed]",
      "text/plain": [
       "<Figure size 432x288 with 1 Axes>"
      ]
     },
     "metadata": {
      "needs_background": "light"
     },
     "output_type": "display_data"
    }
   ],
   "source": [
    "plt.scatter(XGi, yGi, color = 'red')\n",
    "plt.plot(XGi, lin_reg_2Gi.predict(poly_regGi.fit_transform(XGi)), color = 'blue')\n",
    "plt.title('Annual temperature of GISTEMP (Polynomial Regression)')\n",
    "plt.xlabel('Years')\n",
    "plt.ylabel('Mean temp')\n",
    "plt.show()"
   ]
  },
  {
   "cell_type": "markdown",
   "metadata": {},
   "source": [
    "# Apply decision tree regression"
   ]
  },
  {
   "cell_type": "markdown",
   "metadata": {},
   "source": [
    "# Fitting"
   ]
  },
  {
   "cell_type": "code",
   "execution_count": 39,
   "metadata": {},
   "outputs": [
    {
     "data": {
      "text/plain": [
       "DecisionTreeRegressor(criterion='mse', max_depth=None, max_features=None,\n",
       "                      max_leaf_nodes=None, min_impurity_decrease=0.0,\n",
       "                      min_impurity_split=None, min_samples_leaf=1,\n",
       "                      min_samples_split=2, min_weight_fraction_leaf=0.0,\n",
       "                      presort=False, random_state=0, splitter='best')"
      ]
     },
     "execution_count": 39,
     "metadata": {},
     "output_type": "execute_result"
    }
   ],
   "source": [
    "from sklearn.tree import DecisionTreeRegressor\n",
    "regressorGc = DecisionTreeRegressor(random_state = 0)\n",
    "regressorGc.fit(XGc, yGc)"
   ]
  },
  {
   "cell_type": "code",
   "execution_count": 40,
   "metadata": {},
   "outputs": [
    {
     "data": {
      "text/plain": [
       "DecisionTreeRegressor(criterion='mse', max_depth=None, max_features=None,\n",
       "                      max_leaf_nodes=None, min_impurity_decrease=0.0,\n",
       "                      min_impurity_split=None, min_samples_leaf=1,\n",
       "                      min_samples_split=2, min_weight_fraction_leaf=0.0,\n",
       "                      presort=False, random_state=0, splitter='best')"
      ]
     },
     "execution_count": 40,
     "metadata": {},
     "output_type": "execute_result"
    }
   ],
   "source": [
    "from sklearn.tree import DecisionTreeRegressor\n",
    "regressorGi = DecisionTreeRegressor(random_state = 0)\n",
    "regressorGi.fit(XGi, yGi)"
   ]
  },
  {
   "cell_type": "markdown",
   "metadata": {},
   "source": [
    "# Now Again Plotting"
   ]
  },
  {
   "cell_type": "code",
   "execution_count": 42,
   "metadata": {},
   "outputs": [
    {
     "data": {
      "image/png": "[encoded data removed]",
      "text/plain": [
       "<Figure size 432x288 with 1 Axes>"
      ]
     },
     "metadata": {
      "needs_background": "light"
     },
     "output_type": "display_data"
    }
   ],
   "source": [
    "plt.scatter(XGc, yGc, color = 'red')\n",
    "plt.plot(XGc, regressorGc.predict(XGc), color = 'blue')\n",
    "plt.title('Annual temperature of GCAG (Decision Tree Model)')\n",
    "plt.xlabel('Years')\n",
    "plt.ylabel('Mean temp')\n",
    "plt.show()"
   ]
  },
  {
   "cell_type": "code",
   "execution_count": 43,
   "metadata": {},
   "outputs": [
    {
     "data": {
      "image/png": "[encoded data removed]",
      "text/plain": [
       "<Figure size 432x288 with 1 Axes>"
      ]
     },
     "metadata": {
      "needs_background": "light"
     },
     "output_type": "display_data"
    }
   ],
   "source": [
    "plt.scatter(XGi, yGi, color = 'red')\n",
    "plt.plot(XGi, regressorGi.predict(XGi), color = 'blue')\n",
    "plt.title('Annual temperature of GISTEMP (Decision Tree Model)')\n",
    "plt.xlabel('Years')\n",
    "plt.ylabel('Mean temp')\n",
    "plt.show()"
   ]
  },
  {
   "cell_type": "code",
   "execution_count": 46,
   "metadata": {
    "scrolled": true
   },
   "outputs": [
    {
     "data": {
      "image/png": "[encoded data removed]",
      "text/plain": [
       "<Figure size 432x288 with 1 Axes>"
      ]
     },
     "metadata": {
      "needs_background": "light"
     },
     "output_type": "display_data"
    }
   ],
   "source": [
    "XGc_grid = np.arange(min(XGc), max(XGc), 0.1)\n",
    "XGc_grid = XGc_grid.reshape((-1, 1))\n",
    "plt.scatter(XGc, yGc, color = 'red')\n",
    "plt.plot(XGc_grid, regressorGc.predict(XGc_grid), color = 'blue')\n",
    "plt.title('Annual temperature of GCAG (Decision Tree Model)')\n",
    "plt.xlabel('Years')\n",
    "plt.ylabel('Mean temp')\n",
    "plt.show()"
   ]
  },
  {
   "cell_type": "code",
   "execution_count": 53,
   "metadata": {},
   "outputs": [
    {
     "data": {
      "image/png": "[encoded data removed]",
      "text/plain": [
       "<Figure size 432x288 with 1 Axes>"
      ]
     },
     "metadata": {
      "needs_background": "light"
     },
     "output_type": "display_data"
    }
   ],
   "source": [
    "XGi_grid = np.arange(min(XGi), max(XGi), 0.1)\n",
    "XGi_grid = XGi_grid.reshape((-1, 1))\n",
    "plt.scatter(XGi, yGi, color = 'red')\n",
    "plt.plot(XGi_grid, regressorGi.predict(XGi_grid), color = 'blue')\n",
    "plt.title('Annual temperature of GISTEMP (Decision Tree Model)')\n",
    "plt.xlabel('Years')\n",
    "plt.ylabel('Mean temp')\n",
    "plt.show()"
   ]
  },
  {
   "cell_type": "markdown",
   "metadata": {},
   "source": [
    "# Prediction"
   ]
  },
  {
   "cell_type": "code",
   "execution_count": 60,
   "metadata": {},
   "outputs": [
    {
     "name": "stdout",
     "output_type": "stream",
     "text": [
      "Annual Temperature of GCAG in 2016 =\n",
      "[0.899]\n"
     ]
    }
   ],
   "source": [
    "yGc_pred = regressorGc.predict([[2016]])\n",
    "print(\"Annual Temperature of GCAG in 2016 =\")\n",
    "print(yGc_pred)"
   ]
  },
  {
   "cell_type": "code",
   "execution_count": 61,
   "metadata": {},
   "outputs": [
    {
     "name": "stdout",
     "output_type": "stream",
     "text": [
      "Annual Temperature of GCAG in 2017 =\n",
      "[0.899]\n"
     ]
    }
   ],
   "source": [
    "yGc_pred = regressorGc.predict([[2017]])\n",
    "print(\"Annual Temperature of GCAG in 2017 =\")\n",
    "print(yGc_pred)"
   ]
  },
  {
   "cell_type": "code",
   "execution_count": 62,
   "metadata": {},
   "outputs": [
    {
     "name": "stdout",
     "output_type": "stream",
     "text": [
      "Annual Temperature of GISTEMP in 2016 =\n",
      "[0.87]\n"
     ]
    }
   ],
   "source": [
    "yGi_pred = regressorGi.predict([[2016]])\n",
    "print(\"Annual Temperature of GISTEMP in 2016 =\")\n",
    "print(yGi_pred)"
   ]
  },
  {
   "cell_type": "code",
   "execution_count": 63,
   "metadata": {},
   "outputs": [
    {
     "name": "stdout",
     "output_type": "stream",
     "text": [
      "Annual Temperature of GISTEMP in 2017 =\n",
      "[0.87]\n"
     ]
    }
   ],
   "source": [
    "yGi_pred = regressorGi.predict([[2017]])\n",
    "print(\"Annual Temperature of GISTEMP in 2017 =\")\n",
    "print(yGi_pred)"
   ]
  },
  {
   "cell_type": "code",
   "execution_count": null,
   "metadata": {},
   "outputs": [],
   "source": []
  }
 ],
 "metadata": {
  "kernelspec": {
   "display_name": "Python 3",
   "language": "python",
   "name": "python3"
  },
  "language_info": {
   "codemirror_mode": {
    "name": "ipython",
    "version": 3
   },
   "file_extension": ".py",
   "mimetype": "text/x-python",
   "name": "python",
   "nbconvert_exporter": "python",
   "pygments_lexer": "ipython3",
   "version": "3.7.4"
  }
 },
 "nbformat": 4,
 "nbformat_minor": 2
}
